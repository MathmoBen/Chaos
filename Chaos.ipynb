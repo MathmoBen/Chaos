{
 "cells": [
  {
   "cell_type": "markdown",
   "id": "65597dac",
   "metadata": {},
   "source": [
    "# Choas"
   ]
  },
  {
   "cell_type": "markdown",
   "id": "7b62c74b",
   "metadata": {},
   "source": [
    "We attempt to illustrate and plot a chaotic system with Python's Matplotlib. Specifically, we iteratively apply the logistic map $x_{n+1}=4x_n(1-x_n)$ - for details see https://mathworld.wolfram.com/LogisticMap.html"
   ]
  },
  {
   "cell_type": "code",
   "execution_count": null,
   "id": "eb91b229",
   "metadata": {},
   "outputs": [],
   "source": [
    "# Usual imports\n",
    "\n",
    "import pandas as pd\n",
    "from matplotlib import pyplot as plt"
   ]
  },
  {
   "cell_type": "code",
   "execution_count": null,
   "id": "4086a550",
   "metadata": {},
   "outputs": [],
   "source": [
    "# Intitalising the data frame.\n",
    "\n",
    "df = pd.DataFrame({\n",
    "    '0.2' : list(range(20)),\n",
    "    '0.21' : list(range(20)),\n",
    "    '0.201' : list(range(20))\n",
    "}\n",
    ")\n",
    "\n"
   ]
  },
  {
   "cell_type": "code",
   "execution_count": null,
   "id": "e215913a",
   "metadata": {},
   "outputs": [],
   "source": [
    "df['0.2'][0] = 0.2\n",
    "df['0.21'][0] = 0.21\n",
    "df['0.201'][0] = 0.201"
   ]
  },
  {
   "cell_type": "code",
   "execution_count": null,
   "id": "47688847",
   "metadata": {},
   "outputs": [],
   "source": [
    "def logistic(x):\n",
    "    return 4 * x * (1- x)"
   ]
  },
  {
   "cell_type": "code",
   "execution_count": null,
   "id": "b9c95893",
   "metadata": {},
   "outputs": [],
   "source": [
    "for i in range(1,20):\n",
    "    df['0.2'][i] = logistic(df['0.2'][i - 1])\n",
    "    df['0.21'][i] = logistic(df['0.21'][i - 1])\n",
    "    df['0.201'][i] = logistic(df['0.201'][i - 1])\n",
    "    \n",
    "df"
   ]
  },
  {
   "cell_type": "code",
   "execution_count": null,
   "id": "df905d14",
   "metadata": {},
   "outputs": [],
   "source": [
    "# Plotting the result.\n",
    "\n",
    "plt.figure(figsize=(10,5))\n",
    "\n",
    "plt.plot(list(range(1,21)), df['0.2'], label='0.2', c='black')\n",
    "plt.plot(list(range(1,21)), df['0.21'], label='0.21', c='blue')\n",
    "plt.plot(list(range(1,21)), df['0.201'], label='0.201', c='red')\n",
    "\n",
    "plt.title('Logistic map starting at 0.2, 0.21 and 0.201')\n",
    "plt.legend()\n",
    "\n",
    "plt.show()"
   ]
  },
  {
   "cell_type": "code",
   "execution_count": null,
   "id": "0de25b8c",
   "metadata": {},
   "outputs": [],
   "source": []
  }
 ],
 "metadata": {
  "kernelspec": {
   "display_name": "Python 3 (ipykernel)",
   "language": "python",
   "name": "python3"
  },
  "language_info": {
   "codemirror_mode": {
    "name": "ipython",
    "version": 3
   },
   "file_extension": ".py",
   "mimetype": "text/x-python",
   "name": "python",
   "nbconvert_exporter": "python",
   "pygments_lexer": "ipython3",
   "version": "3.11.3"
  }
 },
 "nbformat": 4,
 "nbformat_minor": 5
}
